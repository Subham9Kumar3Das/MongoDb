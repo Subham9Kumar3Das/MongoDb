{
 "cells": [
  {
   "cell_type": "markdown",
   "id": "cd1baa3b-60c2-4238-8a0e-e589c8180428",
   "metadata": {},
   "source": [
    "# Mongodb"
   ]
  },
  {
   "cell_type": "markdown",
   "id": "a084db0e-ca7f-4850-aae1-b75eb4b39583",
   "metadata": {},
   "source": [
    "* Q1. What is MongoDB? Explain non-relational databases in short. In which scenarios it is preferred to use\n",
    "MongoDB over SQL databases?\n",
    "* Q2. State and Explain the features of MongoDB.\n",
    "* Q3. Write a code to connect MongoDB to Python. Also, create a database and a collection in MongoDB.\n",
    "* Q4. Using the database and the collection created in question number 3, write a code to insert one record,\n",
    "and insert many records. Use the find() and find_one() methods to print the inserted record.\n",
    "* Q5. Explain how you can use the find() method to query the MongoDB database. Write a simple code to\n",
    "demonstrate this.\n",
    "* Q6. Explain the sort() method. Give an example to demonstrate sorting in MongoDB.\n",
    "* Q7. Explain why delete_one(), delete_many(), and drop() is used."
   ]
  },
  {
   "cell_type": "markdown",
   "id": "2ddc2b78-afc6-44b8-965f-5ff01f70cd09",
   "metadata": {
    "jp-MarkdownHeadingCollapsed": true,
    "tags": []
   },
   "source": [
    "# 1."
   ]
  },
  {
   "cell_type": "markdown",
   "id": "e269aaa8-d7e4-45d7-9409-af255ba802f1",
   "metadata": {},
   "source": [
    "MongoDB is a NoSQL, document-oriented database that stores data in flexible, JSON-like documents. It is designed for scalability, flexibility, and performance, making it suitable for handling large volumes of unstructured or semi-structured data.\n",
    "\n",
    "Non-relational databases (NoSQL) are a category of databases that do not use the traditional relational database management system (RDBMS) structure. They offer flexibility in handling diverse data types, scalability, and ease of horizontal scaling.\n",
    "\n",
    "Scenarios to prefer MongoDB over SQL databases:\n",
    "\n",
    "When dealing with large amounts of unstructured or semi-structured data.\n",
    "Need for horizontal scalability and distribution across multiple servers.\n",
    "Rapid development and iteration are essential, as MongoDB's flexible schema allows changes without major disruptions."
   ]
  },
  {
   "cell_type": "markdown",
   "id": "274a2fa6-a94b-4570-b119-23ce42f3e5a6",
   "metadata": {
    "jp-MarkdownHeadingCollapsed": true,
    "tags": []
   },
   "source": [
    "# 2."
   ]
  },
  {
   "cell_type": "markdown",
   "id": "f74f8d6e-3877-4d90-8f3b-0f6388c81d02",
   "metadata": {},
   "source": [
    "Document-Oriented: Stores data in flexible, JSON-like BSON documents.\n",
    "Dynamic Schema: Fields can vary in each document, providing flexibility.\n",
    "Scalability: Horizontal scaling with automatic sharding for handling large datasets.\n",
    "Indexing: Supports various index types for efficient query execution.\n",
    "Aggregation Framework: Powerful and flexible data aggregation capabilities.\n",
    "Replication: Provides high availability through replica sets for fault tolerance.\n",
    "Ad Hoc Queries: Supports complex queries, including range queries and regular expressions.\n",
    "Geospatial Indexing: Enables geospatial queries for location-based data.\n",
    "GridFS: Handles large files, splitting them into smaller chunks for storage.\n",
    "JSON/BSON Format: Data stored in a format similar to JSON (JavaScript Object Notation) using BSON (Binary JSON)."
   ]
  },
  {
   "cell_type": "markdown",
   "id": "805e5e4c-0364-423a-a7d8-723d256cd1a8",
   "metadata": {},
   "source": [
    "# 3."
   ]
  },
  {
   "cell_type": "markdown",
   "id": "52bcd389-ebd8-41f6-b25c-8d92a2bf5c1a",
   "metadata": {},
   "source": [
    "# Install pymongo using: pip install pymongo\n",
    "from pymongo import MongoClient\n",
    "\n",
    "# Connect to MongoDB\n",
    "client = MongoClient('mongodb://localhost:27017/')\n",
    "\n",
    "# Create or access a database\n",
    "my_database = client['my_database']\n",
    "\n",
    "# Create or access a collection within the database\n",
    "my_collection = my_database['my_collection']\n"
   ]
  },
  {
   "cell_type": "markdown",
   "id": "99fb968a-906e-4e79-8818-aed6bb4a4314",
   "metadata": {},
   "source": [
    "# 4."
   ]
  },
  {
   "cell_type": "markdown",
   "id": "78e3e985-4227-4c55-a426-8a18cd6e0ccb",
   "metadata": {},
   "source": [
    "# Insert one record\n",
    "my_collection.insert_one({\"key\": \"value\"})\n",
    "\n",
    "# Insert many records\n",
    "data_to_insert = [{\"key\": \"value1\"}, {\"key\": \"value2\"}, {\"key\": \"value3\"}]\n",
    "my_collection.insert_many(data_to_insert)\n",
    "\n",
    "# Print inserted records\n",
    "print(\"One record:\", my_collection.find_one())\n",
    "print(\"All records:\")\n",
    "for record in my_collection.find():\n",
    "    print(record)\n"
   ]
  },
  {
   "cell_type": "markdown",
   "id": "61d4ffbc-620f-430d-86e3-4ede4007840e",
   "metadata": {},
   "source": [
    "# 5."
   ]
  },
  {
   "cell_type": "markdown",
   "id": "5f080c5f-243e-44c6-ab88-1de74ec137de",
   "metadata": {},
   "source": [
    "# Find documents where the key is \"value\"\n",
    "query = {\"key\": \"value\"}\n",
    "result = my_collection.find(query)\n",
    "\n",
    "# Print the matching documents\n",
    "for document in result:\n",
    "    print(document)\n",
    "\n",
    "\n",
    "find() retrieves documents from a collection based on specified criteria.\n",
    "Query criteria are specified using a dictionary-like syntax."
   ]
  },
  {
   "cell_type": "markdown",
   "id": "016de448-b508-4f95-8d62-3fc6c6eb6bdb",
   "metadata": {},
   "source": [
    "# 6."
   ]
  },
  {
   "cell_type": "markdown",
   "id": "0d540b1c-f89a-40c8-849d-e6bff565a0ce",
   "metadata": {},
   "source": [
    "sort() method in MongoDB:\n",
    "\n",
    "sort() is used to sort the documents in a collection based on specified fields.\n",
    "It takes a dictionary where keys are fields to sort by, and values are the sort order (1 for ascending, -1 for descending).\n",
    "Example Code:\n",
    "\n",
    "python\n",
    "Copy code\n",
    "# Sort documents in descending order based on the \"key\" field\n",
    "sorted_result = my_collection.find().sort(\"key\", -1)\n",
    "\n",
    "# Print the sorted documents\n",
    "for document in sorted_result:\n",
    "    print(document)"
   ]
  },
  {
   "cell_type": "markdown",
   "id": "658fd287-24a7-4fa3-a116-9589a8638c5b",
   "metadata": {},
   "source": [
    "# 7."
   ]
  },
  {
   "cell_type": "code",
   "execution_count": null,
   "id": "16381b22-0431-4984-9604-b398f84edabc",
   "metadata": {},
   "outputs": [],
   "source": [
    "delete_one(): Deletes the first document that matches the specified criteria.\n",
    "\n",
    "delete_many(): Deletes all documents that match the specified criteria.\n",
    "\n",
    "drop(): Deletes an entire collection from the database."
   ]
  }
 ],
 "metadata": {
  "kernelspec": {
   "display_name": "Python 3 (ipykernel)",
   "language": "python",
   "name": "python3"
  },
  "language_info": {
   "codemirror_mode": {
    "name": "ipython",
    "version": 3
   },
   "file_extension": ".py",
   "mimetype": "text/x-python",
   "name": "python",
   "nbconvert_exporter": "python",
   "pygments_lexer": "ipython3",
   "version": "3.10.8"
  }
 },
 "nbformat": 4,
 "nbformat_minor": 5
}
